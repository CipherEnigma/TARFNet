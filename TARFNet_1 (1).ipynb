{
  "nbformat": 4,
  "nbformat_minor": 0,
  "metadata": {
    "colab": {
      "provenance": [],
      "gpuType": "T4"
    },
    "kernelspec": {
      "name": "python3",
      "display_name": "Python 3"
    },
    "language_info": {
      "name": "python"
    },
    "accelerator": "GPU"
  },
  "cells": [
    {
      "cell_type": "code",
      "execution_count": 1,
      "metadata": {
        "colab": {
          "base_uri": "https://localhost:8080/"
        },
        "id": "wbrVdeb_vDzz",
        "outputId": "06f63093-428c-493a-a074-68fc4b487f13"
      },
      "outputs": [
        {
          "output_type": "stream",
          "name": "stdout",
          "text": [
            "Mounted at /content/drive\n"
          ]
        }
      ],
      "source": [
        "from google.colab import drive\n",
        "drive.mount('/content/drive')"
      ]
    },
    {
      "cell_type": "code",
      "source": [
        "import os\n",
        "import zipfile\n",
        "os.chdir('/content/drive/MyDrive/TARFNet')"
      ],
      "metadata": {
        "id": "petyEsSv1kI9"
      },
      "execution_count": 6,
      "outputs": []
    },
    {
      "cell_type": "code",
      "source": [
        "!pip install torch torchvision torchaudio --index-url https://download.pytorch.org/whl/cu118\n",
        "!pip install matplotlib seaborn scikit-learn tensorboard opencv-python pillow numpy"
      ],
      "metadata": {
        "id": "GVdb02DKDOg-"
      },
      "execution_count": null,
      "outputs": []
    },
    {
      "cell_type": "code",
      "source": [
        "!ls -la"
      ],
      "metadata": {
        "colab": {
          "base_uri": "https://localhost:8080/"
        },
        "id": "YG2n5PzbDa9a",
        "outputId": "6e337fcd-58ad-44ec-ec8c-4028a3228fde"
      },
      "execution_count": 4,
      "outputs": [
        {
          "output_type": "stream",
          "name": "stdout",
          "text": [
            "total 7847237\n",
            "-rw------- 1 root root 8035570327 Aug 15 12:44 TARFNet.zip\n"
          ]
        }
      ]
    },
    {
      "cell_type": "code",
      "source": [
        "zip_path = '/content/drive/MyDrive/TARFNet/TARFNet.zip'\n",
        "extract_path = '/content/drive/MyDrive/'"
      ],
      "metadata": {
        "id": "1iE--ATWGMh6"
      },
      "execution_count": 8,
      "outputs": []
    },
    {
      "cell_type": "code",
      "source": [
        "print(\"Extracting TARFNet.zip...\")\n",
        "with zipfile.ZipFile(zip_path, 'r') as zip_ref:\n",
        "    zip_ref.extractall(extract_path)\n",
        "print(\"✅ Extraction complete!\")"
      ],
      "metadata": {
        "colab": {
          "base_uri": "https://localhost:8080/"
        },
        "id": "csSpH5DeGNrh",
        "outputId": "ed338b8c-2c69-4534-fd3d-45e25be42789"
      },
      "execution_count": 9,
      "outputs": [
        {
          "output_type": "stream",
          "name": "stdout",
          "text": [
            "Extracting TARFNet.zip...\n",
            "✅ Extraction complete!\n"
          ]
        }
      ]
    },
    {
      "cell_type": "code",
      "source": [
        "!pip uninstall torch torchvision torchaudio -y\n",
        "!pip install torch torchvision torchaudio --index-url https://download.pytorch.org/whl/cu121"
      ],
      "metadata": {
        "id": "Hjp1zdvVPGSz"
      },
      "execution_count": null,
      "outputs": []
    },
    {
      "cell_type": "code",
      "source": [
        "!python /content/drive/MyDrive/TARFNet/models/train_tarfnet.py"
      ],
      "metadata": {
        "colab": {
          "base_uri": "https://localhost:8080/"
        },
        "id": "u4ijAPc4Khuu",
        "outputId": "0174a64d-38d0-4b74-ad20-9cabace199b2"
      },
      "execution_count": 17,
      "outputs": [
        {
          "output_type": "stream",
          "name": "stdout",
          "text": [
            "2025-08-15 15:00:46.910220: E external/local_xla/xla/stream_executor/cuda/cuda_fft.cc:467] Unable to register cuFFT factory: Attempting to register factory for plugin cuFFT when one has already been registered\n",
            "WARNING: All log messages before absl::InitializeLog() is called are written to STDERR\n",
            "E0000 00:00:1755270046.932108   14775 cuda_dnn.cc:8579] Unable to register cuDNN factory: Attempting to register factory for plugin cuDNN when one has already been registered\n",
            "E0000 00:00:1755270046.938735   14775 cuda_blas.cc:1407] Unable to register cuBLAS factory: Attempting to register factory for plugin cuBLAS when one has already been registered\n",
            "W0000 00:00:1755270046.955675   14775 computation_placer.cc:177] computation placer already registered. Please check linkage and avoid linking the same target more than once.\n",
            "W0000 00:00:1755270046.955714   14775 computation_placer.cc:177] computation placer already registered. Please check linkage and avoid linking the same target more than once.\n",
            "W0000 00:00:1755270046.955718   14775 computation_placer.cc:177] computation placer already registered. Please check linkage and avoid linking the same target more than once.\n",
            "W0000 00:00:1755270046.955721   14775 computation_placer.cc:177] computation placer already registered. Please check linkage and avoid linking the same target more than once.\n",
            "2025-08-15 15:00:46.960619: I tensorflow/core/platform/cpu_feature_guard.cc:210] This TensorFlow binary is optimized to use available CPU instructions in performance-critical operations.\n",
            "To enable the following instructions: AVX2 AVX512F FMA, in other operations, rebuild TensorFlow with the appropriate compiler flags.\n",
            "Using device: cuda\n",
            "Loading dataset...\n",
            "train set: 69 clips\n",
            "Movement clips: 34\n",
            "No movement clips: 35\n",
            "val set: 15 clips\n",
            "Movement clips: 8\n",
            "No movement clips: 7\n",
            "test set: 15 clips\n",
            "Movement clips: 7\n",
            "No movement clips: 8\n",
            "Creating TARFNet model...\n",
            "Model parameters: 6,679,811\n",
            "Training TARFNet for 20 epochs...\n",
            "Device: cuda\n",
            "\n",
            "Epoch 1/20\n",
            "--------------------------------------------------\n",
            "Batch 0/18, Loss: 0.6120\n",
            "Batch 5/18, Loss: 0.6816\n",
            "Batch 10/18, Loss: 0.7686\n",
            "Batch 15/18, Loss: 0.7310\n",
            "Train Loss: 0.7065, Train Acc: 46.38%\n",
            "Val Loss: 0.6599, Val Acc: 60.00%\n",
            "Model saved to best_tarfnet.pth\n",
            "New best validation accuracy: 60.00%\n",
            "\n",
            "Epoch 2/20\n",
            "--------------------------------------------------\n",
            "Batch 0/18, Loss: 0.7136\n",
            "Batch 5/18, Loss: 0.6421\n",
            "Batch 10/18, Loss: 0.6740\n",
            "Batch 15/18, Loss: 0.7130\n",
            "Train Loss: 0.6938, Train Acc: 47.83%\n",
            "Val Loss: 0.6692, Val Acc: 60.00%\n",
            "\n",
            "Epoch 3/20\n",
            "--------------------------------------------------\n",
            "Batch 0/18, Loss: 0.7725\n",
            "Batch 5/18, Loss: 0.6420\n",
            "Batch 10/18, Loss: 0.6924\n",
            "Batch 15/18, Loss: 0.7077\n",
            "Train Loss: 0.7036, Train Acc: 50.72%\n",
            "Val Loss: 0.6686, Val Acc: 66.67%\n",
            "Model saved to best_tarfnet.pth\n",
            "New best validation accuracy: 66.67%\n",
            "\n",
            "Epoch 4/20\n",
            "--------------------------------------------------\n",
            "Batch 0/18, Loss: 0.6431\n",
            "Batch 5/18, Loss: 0.6518\n",
            "Batch 10/18, Loss: 0.7451\n",
            "Batch 15/18, Loss: 0.7142\n",
            "Train Loss: 0.7009, Train Acc: 50.72%\n",
            "Val Loss: 0.6849, Val Acc: 60.00%\n",
            "\n",
            "Epoch 5/20\n",
            "--------------------------------------------------\n",
            "Batch 0/18, Loss: 0.7162\n",
            "Batch 5/18, Loss: 0.6964\n",
            "Batch 10/18, Loss: 0.6734\n",
            "Batch 15/18, Loss: 0.5860\n",
            "Train Loss: 0.6771, Train Acc: 56.52%\n",
            "Val Loss: 0.6597, Val Acc: 66.67%\n",
            "\n",
            "Epoch 6/20\n",
            "--------------------------------------------------\n",
            "Batch 0/18, Loss: 0.7631\n",
            "Batch 5/18, Loss: 0.6590\n",
            "Batch 10/18, Loss: 0.7314\n",
            "Batch 15/18, Loss: 0.6908\n",
            "Train Loss: 0.6989, Train Acc: 52.17%\n",
            "Val Loss: 0.6356, Val Acc: 80.00%\n",
            "Model saved to best_tarfnet.pth\n",
            "New best validation accuracy: 80.00%\n",
            "\n",
            "Epoch 7/20\n",
            "--------------------------------------------------\n",
            "Batch 0/18, Loss: 0.7476\n",
            "Batch 5/18, Loss: 0.7469\n",
            "Batch 10/18, Loss: 0.6848\n",
            "Batch 15/18, Loss: 0.7498\n",
            "Train Loss: 0.6800, Train Acc: 56.52%\n",
            "Val Loss: 0.6287, Val Acc: 60.00%\n",
            "\n",
            "Epoch 8/20\n",
            "--------------------------------------------------\n",
            "Batch 0/18, Loss: 0.7047\n",
            "Batch 5/18, Loss: 0.6058\n",
            "Batch 10/18, Loss: 0.6375\n",
            "Batch 15/18, Loss: 0.7940\n",
            "Train Loss: 0.6492, Train Acc: 63.77%\n",
            "Val Loss: 0.6096, Val Acc: 73.33%\n",
            "\n",
            "Epoch 9/20\n",
            "--------------------------------------------------\n",
            "Batch 0/18, Loss: 0.5944\n",
            "Batch 5/18, Loss: 0.7415\n",
            "Batch 10/18, Loss: 0.7214\n",
            "Batch 15/18, Loss: 0.4071\n",
            "Train Loss: 0.6497, Train Acc: 69.57%\n",
            "Val Loss: 0.5603, Val Acc: 66.67%\n",
            "\n",
            "Epoch 10/20\n",
            "--------------------------------------------------\n",
            "Batch 0/18, Loss: 0.5591\n",
            "Batch 5/18, Loss: 0.9007\n",
            "Batch 10/18, Loss: 1.0933\n",
            "Batch 15/18, Loss: 0.7048\n",
            "Train Loss: 0.6513, Train Acc: 60.87%\n",
            "Val Loss: 0.7116, Val Acc: 66.67%\n",
            "\n",
            "Epoch 11/20\n",
            "--------------------------------------------------\n",
            "Batch 0/18, Loss: 0.7938\n",
            "Batch 5/18, Loss: 0.6429\n",
            "Batch 10/18, Loss: 0.6967\n",
            "Batch 15/18, Loss: 0.7514\n",
            "Train Loss: 0.6379, Train Acc: 62.32%\n",
            "Val Loss: 0.6534, Val Acc: 66.67%\n",
            "\n",
            "Epoch 12/20\n",
            "--------------------------------------------------\n",
            "Batch 0/18, Loss: 0.4667\n",
            "Batch 5/18, Loss: 0.6296\n",
            "Batch 10/18, Loss: 0.6471\n",
            "Batch 15/18, Loss: 0.7117\n",
            "Train Loss: 0.6411, Train Acc: 65.22%\n",
            "Val Loss: 0.7294, Val Acc: 60.00%\n",
            "\n",
            "Epoch 13/20\n",
            "--------------------------------------------------\n",
            "Batch 0/18, Loss: 0.5633\n",
            "Batch 5/18, Loss: 0.7525\n",
            "Batch 10/18, Loss: 0.7594\n",
            "Batch 15/18, Loss: 0.5496\n",
            "Train Loss: 0.6604, Train Acc: 57.97%\n",
            "Val Loss: 0.8224, Val Acc: 53.33%\n",
            "\n",
            "Epoch 14/20\n",
            "--------------------------------------------------\n",
            "Batch 0/18, Loss: 0.5967\n",
            "Batch 5/18, Loss: 0.7837\n",
            "Batch 10/18, Loss: 0.4586\n",
            "Batch 15/18, Loss: 0.6142\n",
            "Train Loss: 0.6230, Train Acc: 65.22%\n",
            "Val Loss: 0.5251, Val Acc: 73.33%\n",
            "\n",
            "Epoch 15/20\n",
            "--------------------------------------------------\n",
            "Batch 0/18, Loss: 0.4712\n",
            "Batch 5/18, Loss: 0.6944\n",
            "Batch 10/18, Loss: 0.7389\n",
            "Batch 15/18, Loss: 0.5487\n",
            "Train Loss: 0.6087, Train Acc: 71.01%\n",
            "Val Loss: 0.5415, Val Acc: 60.00%\n",
            "\n",
            "Epoch 16/20\n",
            "--------------------------------------------------\n",
            "Batch 0/18, Loss: 0.3642\n",
            "Batch 5/18, Loss: 0.4287\n",
            "Batch 10/18, Loss: 0.9506\n",
            "Batch 15/18, Loss: 0.9827\n",
            "Train Loss: 0.6579, Train Acc: 66.67%\n",
            "Val Loss: 0.6586, Val Acc: 46.67%\n",
            "\n",
            "Epoch 17/20\n",
            "--------------------------------------------------\n",
            "Batch 0/18, Loss: 0.3360\n",
            "Batch 5/18, Loss: 0.4774\n",
            "Batch 10/18, Loss: 0.6493\n",
            "Batch 15/18, Loss: 0.4722\n",
            "Train Loss: 0.6276, Train Acc: 59.42%\n",
            "Val Loss: 0.6670, Val Acc: 66.67%\n",
            "\n",
            "Epoch 18/20\n",
            "--------------------------------------------------\n",
            "Batch 0/18, Loss: 0.4873\n",
            "Batch 5/18, Loss: 0.3936\n",
            "Batch 10/18, Loss: 0.7958\n",
            "Batch 15/18, Loss: 0.8003\n",
            "Train Loss: 0.5977, Train Acc: 65.22%\n",
            "Val Loss: 0.6922, Val Acc: 60.00%\n",
            "\n",
            "Epoch 19/20\n",
            "--------------------------------------------------\n",
            "Batch 0/18, Loss: 0.7492\n",
            "Batch 5/18, Loss: 0.5643\n",
            "Batch 10/18, Loss: 0.4701\n",
            "Batch 15/18, Loss: 0.3019\n",
            "Train Loss: 0.5563, Train Acc: 78.26%\n",
            "Val Loss: 0.7047, Val Acc: 53.33%\n",
            "\n",
            "Epoch 20/20\n",
            "--------------------------------------------------\n",
            "Batch 0/18, Loss: 0.2713\n",
            "Batch 5/18, Loss: 0.5840\n",
            "Batch 10/18, Loss: 0.6488\n",
            "Batch 15/18, Loss: 0.6877\n",
            "Train Loss: 0.5532, Train Acc: 71.01%\n",
            "Val Loss: 0.6805, Val Acc: 66.67%\n",
            "\n",
            "Training completed! Best validation accuracy: 80.00%\n",
            "Figure(1500x500)\n",
            "Training complete!\n"
          ]
        }
      ]
    },
    {
      "cell_type": "code",
      "metadata": {
        "id": "b9d95a09"
      },
      "source": [
        "import sys\n",
        "import os\n",
        "\n",
        "# Assuming 'tarfnet_model' is in the same directory as 'train_tarfnet.py'\n",
        "module_path = os.path.dirname('/content/drive/MyDrive/TARFNet/models/train_tarfnet.py')\n",
        "if module_path not in sys.path:\n",
        "    sys.path.append(module_path)\n",
        "print(sys.path)"
      ],
      "execution_count": null,
      "outputs": []
    }
  ]
}